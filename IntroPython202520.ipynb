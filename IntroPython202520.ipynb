{
  "nbformat": 4,
  "nbformat_minor": 0,
  "metadata": {
    "colab": {
      "provenance": [],
      "authorship_tag": "ABX9TyPykEQrj45dNqt2p+l843O3",
      "include_colab_link": true
    },
    "kernelspec": {
      "name": "python3",
      "display_name": "Python 3"
    },
    "language_info": {
      "name": "python"
    }
  },
  "cells": [
    {
      "cell_type": "markdown",
      "metadata": {
        "id": "view-in-github",
        "colab_type": "text"
      },
      "source": [
        "<a href=\"https://colab.research.google.com/github/joseayala224/FundProg202520/blob/main/IntroPython202520.ipynb\" target=\"_parent\"><img src=\"https://colab.research.google.com/assets/colab-badge.svg\" alt=\"Open In Colab\"/></a>"
      ]
    },
    {
      "cell_type": "code",
      "execution_count": null,
      "metadata": {
        "id": "CgNkwh-NX6kZ"
      },
      "outputs": [],
      "source": []
    },
    {
      "cell_type": "markdown",
      "source": [
        "# Introduccion a python\n",
        "## fundametos de programacion\n",
        "### Universidad pontificia Bolivariana - seccional Monteria\n",
        "\n",
        "**Fecha:**¨29 agosto de 2025\n",
        "\n",
        "**Presentado por:_Jose_Espitia\n",
        "\n",
        "En la siguiente actividad se exploran los conceptos basicos de Python.\n"
      ],
      "metadata": {
        "id": "qiMoLnjsY4q1"
      }
    },
    {
      "cell_type": "code",
      "source": [
        "# comentarios\n",
        "\n",
        "# Introduccion a Python\n",
        "# Los cometrarios se utilizan para:\n",
        "# - Dar contexto\n",
        "# - explicar codigo\n",
        "# - Ignorar codigo  (pruebas)\n"
      ],
      "metadata": {
        "id": "35zzdmtaa4KW"
      },
      "execution_count": null,
      "outputs": []
    },
    {
      "cell_type": "code",
      "source": [
        "# Print\n",
        "\n",
        "# La funcion print () se utiliza para imprimir un mensaje en consola\n",
        "\n",
        "print(\"hola mundo\")"
      ],
      "metadata": {
        "colab": {
          "base_uri": "https://localhost:8080/"
        },
        "id": "p8-YqeqdbK0l",
        "outputId": "ae96c2de-ef7f-4621-9412-c29d70e0777c"
      },
      "execution_count": null,
      "outputs": [
        {
          "output_type": "stream",
          "name": "stdout",
          "text": [
            "hola mundo\n"
          ]
        }
      ]
    },
    {
      "cell_type": "code",
      "source": [
        "# Variables\n",
        "\n",
        "# Se utilizan para \"almacenar\" datos en memoria. Es una referencis a la direcion en memoria donde se almacenen los datos\n",
        "\n",
        "name = \"jose\"\n",
        "age = 18\n",
        "height = \"1.70\"\n",
        "city = \"monteria\"\n",
        "is_sleeping = False\n",
        "\n"
      ],
      "metadata": {
        "id": "OE2R80aLdpjd"
      },
      "execution_count": null,
      "outputs": []
    },
    {
      "cell_type": "code",
      "source": [
        "# calculos\n",
        "\n",
        "a = 5\n",
        "b = 2.3\n",
        "c = a + b\n",
        "d = a - b\n",
        "e = a * b\n",
        "f = a / b\n",
        "g = a % b # modulo: residuo de la divicion entera de a entre b\n",
        "h = a ** b  # potencia: a elevado a la b\n",
        "print(c)\n",
        "print(d)\n",
        "print(e)\n",
        "print(f)\n",
        "print(g)\n",
        "print(h)"
      ],
      "metadata": {
        "colab": {
          "base_uri": "https://localhost:8080/"
        },
        "id": "ETdA-8n5gXrd",
        "outputId": "69473622-82f3-4bea-d74b-18c371683f83"
      },
      "execution_count": null,
      "outputs": [
        {
          "output_type": "stream",
          "name": "stdout",
          "text": [
            "7.3\n",
            "2.7\n",
            "11.5\n",
            "2.173913043478261\n",
            "0.40000000000000036\n",
            "40.51641491731905\n"
          ]
        }
      ]
    },
    {
      "cell_type": "code",
      "source": [
        "# cambio de valores\n",
        "\n",
        "a = 5\n",
        "print(a)\n",
        "a = 10\n",
        "print(a)"
      ],
      "metadata": {
        "colab": {
          "base_uri": "https://localhost:8080/"
        },
        "id": "hPYAr0zfhpgV",
        "outputId": "7014e8f9-c139-4a24-9e45-9a4ea0ffa44c"
      },
      "execution_count": null,
      "outputs": [
        {
          "output_type": "stream",
          "name": "stdout",
          "text": [
            "5\n",
            "10\n"
          ]
        }
      ]
    },
    {
      "cell_type": "code",
      "source": [
        "# Incrementador (+=, -=, *=,)\n",
        "\n",
        "time = 0\n",
        "print(time)\n",
        "time += 1\n",
        "print(time)\n",
        "time -= 2\n",
        "print(time)\n",
        "time *= 3\n",
        "print(time)\n",
        "time /= 4\n",
        "print(time)\n"
      ],
      "metadata": {
        "id": "RFP8mAtGjZ4d"
      },
      "execution_count": null,
      "outputs": []
    },
    {
      "cell_type": "code",
      "source": [
        "# Varias lineas\n",
        "\n",
        "song = \"\"\"\n",
        "jajjajajajaajajajaja,\"\"\"\n",
        "\n",
        "print(song)\n"
      ],
      "metadata": {
        "colab": {
          "base_uri": "https://localhost:8080/"
        },
        "id": "F1__aHrclRXq",
        "outputId": "cedfc1c6-d86d-471a-9e3d-b7958b2ff210"
      },
      "execution_count": null,
      "outputs": [
        {
          "output_type": "stream",
          "name": "stdout",
          "text": [
            "\n",
            "jajjajajajaajajajaja,\n"
          ]
        }
      ]
    },
    {
      "cell_type": "code",
      "source": [],
      "metadata": {
        "id": "LX0EdhY3mAXk"
      },
      "execution_count": null,
      "outputs": []
    }
  ]
}